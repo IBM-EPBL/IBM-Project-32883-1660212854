{
  "nbformat": 4,
  "nbformat_minor": 0,
  "metadata": {
    "colab": {
      "provenance": [],
      "collapsed_sections": [],
      "toc_visible": true
    },
    "kernelspec": {
      "name": "python3",
      "display_name": "Python 3"
    },
    "language_info": {
      "name": "python"
    }
  },
  "cells": [
    {
      "cell_type": "markdown",
      "source": [
        "**1.Unzip the data**"
      ],
      "metadata": {
        "id": "4_Hn934vhyaY"
      }
    },
    {
      "cell_type": "code",
      "execution_count": null,
      "metadata": {
        "colab": {
          "base_uri": "https://localhost:8080/"
        },
        "id": "8iCsKL_ThrSr",
        "outputId": "07f94edc-3550-4d16-e49d-a6c060896c16"
      },
      "outputs": [
        {
          "output_type": "stream",
          "name": "stdout",
          "text": [
            "unzip:  cannot find or open /content/Flowers-Dataset.zip, /content/Flowers-Dataset.zip.zip or /content/Flowers-Dataset.zip.ZIP.\n"
          ]
        }
      ],
      "source": [
        "!unzip '/content/Flowers-Dataset.zip'"
      ]
    },
    {
      "cell_type": "code",
      "source": [
        "# Import required lib\n",
        "\n",
        "from tensorflow.keras.preprocessing.image import ImageDataGenerator"
      ],
      "metadata": {
        "id": "2-o4gXTUiHqW"
      },
      "execution_count": null,
      "outputs": []
    },
    {
      "cell_type": "markdown",
      "source": [
        "**2.Image Augumentation**"
      ],
      "metadata": {
        "id": "y0uoxjiUkCiO"
      }
    },
    {
      "cell_type": "code",
      "source": [
        "train_datagen = ImageDataGenerator(rescale=1./255,\n",
        "                                   zoom_range=0.2,\n",
        "                                   horizontal_flip=True)"
      ],
      "metadata": {
        "id": "f8_5Jj7QiaN8"
      },
      "execution_count": null,
      "outputs": []
    },
    {
      "cell_type": "code",
      "source": [
        "test_datagen = ImageDataGenerator(rescale=1./255)"
      ],
      "metadata": {
        "id": "AdiVG5LsiV6X"
      },
      "execution_count": null,
      "outputs": []
    },
    {
      "cell_type": "code",
      "source": [
        "xtrain = train_datagen.flow_from_directory('/content/flowers',\n",
        "                                           target_size=(64,64),\n",
        "                                           class_mode='categorical',\n",
        "                                           batch_size=100)"
      ],
      "metadata": {
        "id": "Lm5ThLPVikVk",
        "colab": {
          "base_uri": "https://localhost:8080/"
        },
        "outputId": "e54bee47-592a-4f9d-ee54-275a6cd57428"
      },
      "execution_count": null,
      "outputs": [
        {
          "output_type": "stream",
          "name": "stdout",
          "text": [
            "Found 4317 images belonging to 5 classes.\n"
          ]
        }
      ]
    },
    {
      "cell_type": "markdown",
      "source": [
        "**3.Create Model**"
      ],
      "metadata": {
        "id": "n6t10DCXkTdD"
      }
    },
    {
      "cell_type": "code",
      "source": [
        "# Importing required lib\n",
        "\n",
        "from tensorflow.keras.models import Sequential\n",
        "from tensorflow.keras.layers import Convolution2D,MaxPooling2D,Flatten,Dense"
      ],
      "metadata": {
        "id": "qHWa45H0ixAS"
      },
      "execution_count": null,
      "outputs": []
    },
    {
      "cell_type": "markdown",
      "source": [
        "4.Add Layers (Convolution,MaxPooling,Flatten,Dense-(Hidden\n",
        "Layers),Output) "
      ],
      "metadata": {
        "id": "LgvSe_suktIK"
      }
    },
    {
      "cell_type": "code",
      "source": [
        "# Creating CNN block\n",
        "\n",
        "model = Sequential()\n",
        "model.add(Convolution2D(32,(3,3),activation='relu',input_shape=(64,64,3))) # Convolution layer\n",
        "model.add(MaxPooling2D(pool_size=(2,2))) # Max pooling layer\n",
        "model.add(Flatten()) # Flatten layer\n",
        "# Fully connected layers (ANN)\n",
        "model.add(Dense(300,activation='relu')) # Hidden layer 1\n",
        "model.add(Dense(150,activation='relu')) # Hidden layer 2\n",
        "model.add(Dense(4,activation='softmax')) # Output layer"
      ],
      "metadata": {
        "id": "AsvzKH4si1Kv"
      },
      "execution_count": null,
      "outputs": []
    },
    {
      "cell_type": "markdown",
      "source": [
        "**5.Compile the model**"
      ],
      "metadata": {
        "id": "gwa6GJSnk6Vb"
      }
    },
    {
      "cell_type": "code",
      "source": [
        "model.compile(optimizer='adam',loss='categorical_crossentropy',metrics=['accuracy'])"
      ],
      "metadata": {
        "id": "4xRRlILSi27F"
      },
      "execution_count": null,
      "outputs": []
    },
    {
      "cell_type": "markdown",
      "source": [
        "**6.Fit The Model**"
      ],
      "metadata": {
        "id": "9k2tdx2TlBpF"
      }
    },
    {
      "cell_type": "code",
      "source": [
        "model.fit_generator(xtrain,\n",
        "                    steps_per_epoch=len(xtrain),\n",
        "                    epochs=10,\n",
        "                    validation_data=xtrain,\n",
        "                    validation_steps=len(xtrain))"
      ],
      "metadata": {
        "id": "bm0Z_YoBi25D"
      },
      "execution_count": null,
      "outputs": []
    },
    {
      "cell_type": "markdown",
      "source": [
        "**7.Save The Model**"
      ],
      "metadata": {
        "id": "avXrZ9FmlHow"
      }
    },
    {
      "cell_type": "code",
      "source": [
        "model.save('Flowers.h5')"
      ],
      "metadata": {
        "id": "bUR-s6wIi23L"
      },
      "execution_count": null,
      "outputs": []
    },
    {
      "cell_type": "markdown",
      "source": [
        "**8.Testing the model**"
      ],
      "metadata": {
        "id": "HKkmo-Rvlhbj"
      }
    },
    {
      "cell_type": "code",
      "source": [
        "import numpy as np\n",
        "from tensorflow.keras.preprocessing import image"
      ],
      "metadata": {
        "id": "aZSN2odvi21E"
      },
      "execution_count": null,
      "outputs": []
    },
    {
      "cell_type": "code",
      "source": [
        "# Reading the image\n",
        "\n",
        "img = image.load_img('/content/flowers/rose/102501987_3cdb8e5394_n.jpg',target_size=(64,64))"
      ],
      "metadata": {
        "id": "_8fzec86i2y_"
      },
      "execution_count": null,
      "outputs": []
    },
    {
      "cell_type": "code",
      "source": [
        "# Visualize the image\n",
        "\n",
        "img"
      ],
      "metadata": {
        "id": "dJPyIdr6jQz1",
        "colab": {
          "base_uri": "https://localhost:8080/",
          "height": 81
        },
        "outputId": "7edd96cf-df72-402d-8ab2-87f8a4d56719"
      },
      "execution_count": null,
      "outputs": [
        {
          "output_type": "execute_result",
          "data": {
            "text/plain": [
              "<PIL.Image.Image image mode=RGB size=64x64 at 0x7F2A646EA810>"
            ],
            "image/png": "[encoded data removed]"
          },
          "metadata": {},
          "execution_count": 46
        }
      ]
    },
    {
      "cell_type": "code",
      "source": [
        "# Converting image to array\n",
        "\n",
        "x = image.img_to_array(img)\n",
        "x"
      ],
      "metadata": {
        "id": "nNnK8qX5i2wt",
        "colab": {
          "base_uri": "https://localhost:8080/"
        },
        "outputId": "ef9bfee6-cc53-4438-c605-6f0cf2e9fa83"
      },
      "execution_count": null,
      "outputs": [
        {
          "output_type": "execute_result",
          "data": {
            "text/plain": [
              "array([[[ 6.,  6.,  4.],\n",
              "        [21., 22., 16.],\n",
              "        [12., 13.,  8.],\n",
              "        ...,\n",
              "        [ 1.,  1.,  0.],\n",
              "        [ 2.,  2.,  0.],\n",
              "        [ 2.,  2.,  0.]],\n",
              "\n",
              "       [[20., 21., 16.],\n",
              "        [ 7.,  7.,  5.],\n",
              "        [22., 23., 18.],\n",
              "        ...,\n",
              "        [ 0.,  0.,  0.],\n",
              "        [ 2.,  2.,  0.],\n",
              "        [ 1.,  1.,  0.]],\n",
              "\n",
              "       [[16., 17., 12.],\n",
              "        [20., 21., 16.],\n",
              "        [11., 12.,  7.],\n",
              "        ...,\n",
              "        [ 1.,  1.,  0.],\n",
              "        [ 1.,  1.,  0.],\n",
              "        [ 1.,  1.,  0.]],\n",
              "\n",
              "       ...,\n",
              "\n",
              "       [[13., 14.,  9.],\n",
              "        [ 9.,  9.,  9.],\n",
              "        [ 6.,  6.,  4.],\n",
              "        ...,\n",
              "        [ 1.,  1.,  0.],\n",
              "        [ 2.,  2.,  0.],\n",
              "        [ 2.,  2.,  0.]],\n",
              "\n",
              "       [[ 5.,  5.,  3.],\n",
              "        [ 7.,  7.,  5.],\n",
              "        [14., 15., 10.],\n",
              "        ...,\n",
              "        [23., 23., 21.],\n",
              "        [ 1.,  1.,  0.],\n",
              "        [ 1.,  1.,  0.]],\n",
              "\n",
              "       [[ 2.,  2.,  0.],\n",
              "        [ 7.,  7.,  5.],\n",
              "        [ 3.,  3.,  1.],\n",
              "        ...,\n",
              "        [22., 22., 20.],\n",
              "        [ 2.,  2.,  0.],\n",
              "        [ 2.,  2.,  0.]]], dtype=float32)"
            ]
          },
          "metadata": {},
          "execution_count": 47
        }
      ]
    },
    {
      "cell_type": "code",
      "source": [
        "# Expanding dimensions\n",
        "\n",
        "x = np.expand_dims(x,axis=0)\n",
        "x"
      ],
      "metadata": {
        "id": "lha4ewEojRRo",
        "colab": {
          "base_uri": "https://localhost:8080/"
        },
        "outputId": "0c07994c-26fd-4223-a654-0eee8ebdc29e"
      },
      "execution_count": null,
      "outputs": [
        {
          "output_type": "execute_result",
          "data": {
            "text/plain": [
              "array([[[[ 6.,  6.,  4.],\n",
              "         [21., 22., 16.],\n",
              "         [12., 13.,  8.],\n",
              "         ...,\n",
              "         [ 1.,  1.,  0.],\n",
              "         [ 2.,  2.,  0.],\n",
              "         [ 2.,  2.,  0.]],\n",
              "\n",
              "        [[20., 21., 16.],\n",
              "         [ 7.,  7.,  5.],\n",
              "         [22., 23., 18.],\n",
              "         ...,\n",
              "         [ 0.,  0.,  0.],\n",
              "         [ 2.,  2.,  0.],\n",
              "         [ 1.,  1.,  0.]],\n",
              "\n",
              "        [[16., 17., 12.],\n",
              "         [20., 21., 16.],\n",
              "         [11., 12.,  7.],\n",
              "         ...,\n",
              "         [ 1.,  1.,  0.],\n",
              "         [ 1.,  1.,  0.],\n",
              "         [ 1.,  1.,  0.]],\n",
              "\n",
              "        ...,\n",
              "\n",
              "        [[13., 14.,  9.],\n",
              "         [ 9.,  9.,  9.],\n",
              "         [ 6.,  6.,  4.],\n",
              "         ...,\n",
              "         [ 1.,  1.,  0.],\n",
              "         [ 2.,  2.,  0.],\n",
              "         [ 2.,  2.,  0.]],\n",
              "\n",
              "        [[ 5.,  5.,  3.],\n",
              "         [ 7.,  7.,  5.],\n",
              "         [14., 15., 10.],\n",
              "         ...,\n",
              "         [23., 23., 21.],\n",
              "         [ 1.,  1.,  0.],\n",
              "         [ 1.,  1.,  0.]],\n",
              "\n",
              "        [[ 2.,  2.,  0.],\n",
              "         [ 7.,  7.,  5.],\n",
              "         [ 3.,  3.,  1.],\n",
              "         ...,\n",
              "         [22., 22., 20.],\n",
              "         [ 2.,  2.,  0.],\n",
              "         [ 2.,  2.,  0.]]]], dtype=float32)"
            ]
          },
          "metadata": {},
          "execution_count": 48
        }
      ]
    },
    {
      "cell_type": "code",
      "source": [
        "# Predicting animal\n",
        "\n",
        "model.predict(x)"
      ],
      "metadata": {
        "id": "fPOjl5EBi2uo",
        "colab": {
          "base_uri": "https://localhost:8080/"
        },
        "outputId": "86098a8c-9760-488f-d2b4-8fac9be79e55"
      },
      "execution_count": null,
      "outputs": [
        {
          "output_type": "execute_result",
          "data": {
            "text/plain": [
              "array([[2.2548706e-04, 8.5826463e-10, 2.6962639e-14, 9.9977452e-01]],\n",
              "      dtype=float32)"
            ]
          },
          "metadata": {},
          "execution_count": 49
        }
      ]
    },
    {
      "cell_type": "code",
      "source": [
        "# For visualizing class index\n",
        "\n",
        "xtrain.class_indices"
      ],
      "metadata": {
        "id": "6jywJCD3jRV9",
        "colab": {
          "base_uri": "https://localhost:8080/"
        },
        "outputId": "f128eb3c-5ca7-4706-c151-1b980ac55291"
      },
      "execution_count": null,
      "outputs": [
        {
          "output_type": "execute_result",
          "data": {
            "text/plain": [
              "{'daisy': 0, 'dandelion': 1, 'rose': 2, 'sunflower': 3, 'tulip': 4}"
            ]
          },
          "metadata": {},
          "execution_count": 50
        }
      ]
    },
    {
      "cell_type": "code",
      "source": [
        "# Predicting and index matching\n",
        "\n",
        "op = ['dandelion','daisy','sunflower','rose','tulip']\n",
        "pred = np.argmax(model.predict(x))\n",
        "op[pred]"
      ],
      "metadata": {
        "id": "-Ud951Z5i2sm",
        "colab": {
          "base_uri": "https://localhost:8080/",
          "height": 35
        },
        "outputId": "3f824775-eeab-4e6e-d327-710750a520ea"
      },
      "execution_count": null,
      "outputs": [
        {
          "output_type": "execute_result",
          "data": {
            "text/plain": [
              "'dandelion'"
            ],
            "application/vnd.google.colaboratory.intrinsic+json": {
              "type": "string"
            }
          },
          "metadata": {},
          "execution_count": 61
        }
      ]
    },
    {
      "cell_type": "code",
      "source": [
        "# Testing\n",
        "\n",
        "img = image.load_img('/content/flowers/dandelion/10477378514_9ffbcec4cf_m.jpg',target_size=(64,64))\n",
        "x = image.img_to_array(img)\n",
        "x = np.expand_dims(x,axis=0)\n",
        "pred = np.argmax(model.predict(x))\n",
        "op[pred]"
      ],
      "metadata": {
        "id": "oAd9JNvyjRaP",
        "colab": {
          "base_uri": "https://localhost:8080/",
          "height": 35
        },
        "outputId": "ef6b93a5-312c-4b64-99c5-670ac880c35e"
      },
      "execution_count": null,
      "outputs": [
        {
          "output_type": "execute_result",
          "data": {
            "text/plain": [
              "'dandelion'"
            ],
            "application/vnd.google.colaboratory.intrinsic+json": {
              "type": "string"
            }
          },
          "metadata": {},
          "execution_count": 62
        }
      ]
    },
    {
      "cell_type": "code",
      "source": [],
      "metadata": {
        "id": "RHL6r452i2qf"
      },
      "execution_count": null,
      "outputs": []
    },
    {
      "cell_type": "code",
      "source": [],
      "metadata": {
        "id": "bwJvHZwujRef"
      },
      "execution_count": null,
      "outputs": []
    }
  ]
}